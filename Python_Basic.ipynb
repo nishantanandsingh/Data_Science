{
  "nbformat": 4,
  "nbformat_minor": 0,
  "metadata": {
    "colab": {
      "provenance": []
    },
    "kernelspec": {
      "name": "python3",
      "display_name": "Python 3"
    },
    "language_info": {
      "name": "python"
    }
  },
  "cells": [
    {
      "cell_type": "markdown",
      "source": [
        "#Python_Basic"
      ],
      "metadata": {
        "id": "k0o6ioMPwsuG"
      }
    },
    {
      "cell_type": "markdown",
      "source": [
        "1. What is Python, and why is it popular ?\n",
        "   - Python is an open-source, object-oriented, high-level, general-purpose programming language. It is easy to learn/understand. Python runs on Windows, macOS, and Linux, so we can use it anywhere. we can use Python for almost anything websites, data analysis, AI, automation, and more.\n",
        "   \n",
        "2. What is an interpreter in Python ?\n",
        "   - An interpreter in Python is a program that executes Python code line by line. It reads the code, converts it into machine-readable instructions, and runs it immediately, without needing to compile the entire program beforehand.\n",
        "\n",
        "3. What are pre-defined keywords in Python ?\n",
        "  - Pre-defined keywords in Python are reserved words with special meanings that define the structure and functionality of a program. They cannot be used as variable names and are case-sensitive. Examples: if, else, for, while, def, class, and import. we can view them using help(\"keywords\").\n",
        "\n",
        "4. Can keywords be used as variable names ?\n",
        "  - No, keywords cannot be used as variable names in Python. Keywords are reserved words with special meanings in the language, and using them as variable names will result in a SyntaxError\n",
        "\n",
        "5. What is mutability in Python ?\n",
        "  -Mutable is when something is changeable or has the ability to change. In Python, mutable is the ability of objects to change their values. These are often the objects that store a collection of data. Examples: Lists ,Sets, Dictionaries, etc.\n",
        "6. Why are lists mutable, but tuples are immutable?\n",
        "  -Lists are mutable because they are meant for dynamic data manipulation, allowing modifications like adding, removing, or changing elements. Tuples, on the other hand, are immutable to ensure data consistency, enable hashability, and provide better performance for fixed data.\n",
        "\n",
        "7. What is the difference between “==” and “is” operators in Python ?\n",
        "  - The == operator checks if the values of two objects are equal, while the `is operator checks if they refer to the same memory location. Use == for value comparison and is for identity comparison.\n",
        "\n",
        "8. What are logical operators in Python ?\n",
        "  - Logical operators in Python are used to combine or modify conditional statements like AND, OR, NOT.\n",
        "\n",
        "9. What is type casting in Python ?\n",
        "  - Type casting in Python is the process of converting a variable from one data type to another. It allows you to explicitly change the type of a value, like converting a string to an integer or a float to a string. Python provides built-in functions for type casting, such as int(), float(), str(), and list().\n",
        "\n",
        "10. What is the difference between implicit and explicit type casting ?\n",
        "  - Implicit type casting is automatically done by Python when converting smaller data types to larger ones (e.g., int to float) without data loss. Explicit type casting is manually performed by the programmer using functions like int(), float(), or str() and may result in data loss or errors.\n",
        "\n",
        "11. What is the purpose of conditional statements in Python ?\n",
        "  - The purpose of conditional statements in Python is to execute specific blocks of code based on whether a given condition is True or False. Example: if, else, elif\n",
        "\n",
        "12. How does the elif statement work ?\n",
        "  - The elif statement in Python stands for \"else if\" and is used to check multiple conditions after an initial if statement. If the if condition is False, Python evaluates the elif conditions in order. The first elif condition that evaluates to True executes its block of code, and the rest are skipped. If no conditions are True, the optional else block runs.\n",
        "\n",
        "13. What is the difference between for and while loops?\n",
        "  - for loop used to iterate over a sequence. It repeats a block of code for each item in the sequence, typically when the number of iterations is already known. Where as while loop continues to execute a block of code as long as a specified condition remains True. It is typically used when the number of iterations is not known and depends on runtime conditions.\n",
        "\n",
        "14. Describe a scenario where a while loop is more suitable than a for loop ?\n",
        "  - If you are writing a program that repeatedly asks a user for input until they enter a valid response, a while loop would be ideal. You don't know how many attempts the user will need, but you want the loop to continue until the input is correct."
      ],
      "metadata": {
        "id": "lC1gP9n3wuOW"
      }
    },
    {
      "cell_type": "markdown",
      "source": [
        "#Practical Questions\n",
        "\n"
      ],
      "metadata": {
        "id": "1tWLrJ9NAQdf"
      }
    },
    {
      "cell_type": "code",
      "source": [
        "#Q1 Write a Python program to print \"Hello, World!\n",
        "\n",
        "print(\"Hello, World\")"
      ],
      "metadata": {
        "colab": {
          "base_uri": "https://localhost:8080/"
        },
        "id": "cfVdJTnBD4dU",
        "outputId": "634cdcc9-e8ee-41d9-e259-8213373c3a35"
      },
      "execution_count": 3,
      "outputs": [
        {
          "output_type": "stream",
          "name": "stdout",
          "text": [
            "Hello, World\n"
          ]
        }
      ]
    },
    {
      "cell_type": "code",
      "source": [
        "#Q2 Write a Python program that displays your name and age\n",
        "name = 'Nishant Anand'\n",
        "age = 29\n",
        "print(name, age)"
      ],
      "metadata": {
        "colab": {
          "base_uri": "https://localhost:8080/"
        },
        "id": "bXMfx3feElMd",
        "outputId": "86a0b596-2955-45d4-a93f-818b7ec246f9"
      },
      "execution_count": 6,
      "outputs": [
        {
          "output_type": "stream",
          "name": "stdout",
          "text": [
            "Nishant Anand 29\n"
          ]
        }
      ]
    },
    {
      "cell_type": "code",
      "source": [
        "#Q3. Write code to print all the pre-defined keywords in Python using the keyword library0\n",
        "print(help('keywords'))"
      ],
      "metadata": {
        "colab": {
          "base_uri": "https://localhost:8080/"
        },
        "id": "Jfl4sMCmE7mz",
        "outputId": "114e349a-0d01-442c-d658-3bfe99cc6e09"
      },
      "execution_count": 5,
      "outputs": [
        {
          "output_type": "stream",
          "name": "stdout",
          "text": [
            "\n",
            "Here is a list of the Python keywords.  Enter any keyword to get more help.\n",
            "\n",
            "False               class               from                or\n",
            "None                continue            global              pass\n",
            "True                def                 if                  raise\n",
            "and                 del                 import              return\n",
            "as                  elif                in                  try\n",
            "assert              else                is                  while\n",
            "async               except              lambda              with\n",
            "await               finally             nonlocal            yield\n",
            "break               for                 not                 \n",
            "\n",
            "None\n"
          ]
        }
      ]
    },
    {
      "cell_type": "code",
      "source": [
        "#Q4 Write a program that checks if a given word is a Python keyword\n",
        "\n",
        "import keyword as k\n",
        "\n",
        "word = input('Enter your word to check!')\n",
        "\n",
        "if k.iskeyword(word):\n",
        "  print('This is python Keyword',word)\n",
        "else:\n",
        "  print('This is python Keyword',word)\n"
      ],
      "metadata": {
        "colab": {
          "base_uri": "https://localhost:8080/"
        },
        "id": "pXe5gnJpFJnF",
        "outputId": "2e2e22f3-1d75-47e4-d022-c7b9c85e1de3"
      },
      "execution_count": 15,
      "outputs": [
        {
          "output_type": "stream",
          "name": "stdout",
          "text": [
            "Enter your word to check!if\n",
            "This is python Keyword if\n"
          ]
        }
      ]
    },
    {
      "cell_type": "code",
      "source": [
        "#Q5 Create a list and tuple in Python, and demonstrate how attempting to change an element works differently for each\n",
        "list1 = ['Hello', 1, 1.2, True]\n",
        "tuple1 = ('Hello', 1, 1.2, True)\n",
        "#Adding a new element in list\n",
        "list1.append('New')\n",
        "print(list1)\n",
        "#Adding a new element in Tuple\n",
        "tuple2 = tuple1 + ('New',11)\n",
        "print(tuple2)\n"
      ],
      "metadata": {
        "colab": {
          "base_uri": "https://localhost:8080/"
        },
        "id": "L5OkPUtcL2AT",
        "outputId": "b56cb676-883a-4ba6-e06c-5ec4f7658a73"
      },
      "execution_count": 22,
      "outputs": [
        {
          "output_type": "stream",
          "name": "stdout",
          "text": [
            "['Hello', 1, 1.2, True, 'New']\n",
            "('Hello', 1, 1.2, True, 'New', 11)\n"
          ]
        }
      ]
    },
    {
      "cell_type": "code",
      "source": [
        "#Q6-Q7 Write a function to demonstrate the behavior of mutable and immutable arguments\n",
        "\n",
        "x = 10\n",
        "list1 = [1,2,3]\n",
        "print(x)\n",
        "print(list1)\n",
        "\n",
        "def modify_immutable(y):\n",
        "  x = 2\n",
        "  y = x\n",
        "  print(\"Changed value after modification immutable:\", x)\n",
        "def modify_mutable(list1):\n",
        "  list1.append(10)\n",
        "  print(\"After modification (mutable):\", list1)\n",
        "\n",
        "# Immutable Example\n",
        "modify_immutable(x)\n",
        "# Mutable Example\n",
        "modify_mutable(list1)\n",
        "\n"
      ],
      "metadata": {
        "colab": {
          "base_uri": "https://localhost:8080/"
        },
        "id": "TJ2ZmDvsQMRJ",
        "outputId": "cf810bc2-b5b5-4339-f14a-64427b6b6dc8"
      },
      "execution_count": 67,
      "outputs": [
        {
          "output_type": "stream",
          "name": "stdout",
          "text": [
            "10\n",
            "[1, 2, 3]\n",
            "Changed value after modification immutable: 2\n",
            "After modification (mutable): [1, 2, 3, 10]\n"
          ]
        }
      ]
    },
    {
      "cell_type": "code",
      "source": [
        "#Q8 Write a program to demonstrate the use of logical operators\n",
        "\n",
        "x = 5\n",
        "y = \"hello\"\n",
        "if x == 5 and y == \"hello\":\n",
        "  print(\"Logical operater AND Correct here\")\n",
        "else:\n",
        "  print(\"Logical operater AND Incorrect here\")\n",
        "\n",
        "if x == 5 or y == \"hello\":\n",
        "  print(\"Logical operater OR Correct here\")\n",
        "else:\n",
        "  print(\"Logical operater OR Incorrect here\")\n",
        "\n",
        "if not x != 5:\n",
        "  print(\"Logical operater NOT Correct here\")\n",
        "else:\n",
        "  print(\"Logical operater OR Incorrect here\")"
      ],
      "metadata": {
        "colab": {
          "base_uri": "https://localhost:8080/"
        },
        "id": "1ip_U3dda_wV",
        "outputId": "d7e99874-0f9d-4aa3-a876-98f7e9217816"
      },
      "execution_count": 13,
      "outputs": [
        {
          "output_type": "stream",
          "name": "stdout",
          "text": [
            "Logical operater AND Correct here\n",
            "Logical operater OR Correct here\n",
            "Logical operater NOT Correct here\n"
          ]
        }
      ]
    },
    {
      "cell_type": "code",
      "source": [
        "#Q9 Write a Python program to convert user input from string to integer, float, and boolean types\n",
        "x = input('Please enter a number')\n",
        "print(int(x))\n",
        "print(float(x))\n",
        "print(bool(x))"
      ],
      "metadata": {
        "colab": {
          "base_uri": "https://localhost:8080/"
        },
        "id": "NMubRE1pckQE",
        "outputId": "1486c757-36ae-4413-f5ad-08816bca5ea2"
      },
      "execution_count": 14,
      "outputs": [
        {
          "output_type": "stream",
          "name": "stdout",
          "text": [
            "Please enter a number1\n",
            "1\n",
            "1.0\n",
            "True\n"
          ]
        }
      ]
    },
    {
      "cell_type": "code",
      "source": [
        "#Q10  Write code to demonstrate type casting with list elements\n",
        "\n",
        "list1 = [1, 'Hello',123, 4.55]\n",
        "print(tuple(list1))"
      ],
      "metadata": {
        "colab": {
          "base_uri": "https://localhost:8080/"
        },
        "id": "u4OyNXVsc2rL",
        "outputId": "1c3b95af-12d5-4ef2-fcf7-6568c7a5621c"
      },
      "execution_count": 15,
      "outputs": [
        {
          "output_type": "stream",
          "name": "stdout",
          "text": [
            "(1, 'Hello', 123, 4.55)\n"
          ]
        }
      ]
    },
    {
      "cell_type": "code",
      "source": [
        "#Q11 Write a program that checks if a number is positive, negative, or zero\n",
        "x= float(input(\"enter a number to check\"))\n",
        "if x > 0:\n",
        "  print(\"Possitive\")\n",
        "elif x < 0:\n",
        "  print(\"Negative\")\n",
        "else:\n",
        "  print(\"Zero\")"
      ],
      "metadata": {
        "colab": {
          "base_uri": "https://localhost:8080/"
        },
        "id": "RabQoFIVdXqa",
        "outputId": "70618041-ba04-41f0-b60e-4098b6e4796b"
      },
      "execution_count": 24,
      "outputs": [
        {
          "output_type": "stream",
          "name": "stdout",
          "text": [
            "enter a number to check15.1\n",
            "Possitive\n"
          ]
        }
      ]
    },
    {
      "cell_type": "code",
      "source": [
        "#Q12  Write a for loop to print numbers from 1 to 10\n",
        "for i in range(1,11):\n",
        "  print(i, end =' ')"
      ],
      "metadata": {
        "colab": {
          "base_uri": "https://localhost:8080/"
        },
        "id": "VTrwDj5neLTj",
        "outputId": "0c814b1a-2d9f-49e7-9c81-1b118f353dd5"
      },
      "execution_count": 29,
      "outputs": [
        {
          "output_type": "stream",
          "name": "stdout",
          "text": [
            "1 2 3 4 5 6 7 8 9 10 "
          ]
        }
      ]
    },
    {
      "cell_type": "code",
      "source": [
        "#Q13 Write a Python program to find the sum of all even numbers between 1 and 50\n",
        "z = 0\n",
        "for i in range (0,51,2):\n",
        "  z += i\n",
        "print(\"Total : \",z)"
      ],
      "metadata": {
        "colab": {
          "base_uri": "https://localhost:8080/"
        },
        "id": "zBpzSQ5FePfe",
        "outputId": "8248b006-2cff-4ca5-b9af-b2dee1fc9fb2"
      },
      "execution_count": 37,
      "outputs": [
        {
          "output_type": "stream",
          "name": "stdout",
          "text": [
            "Total :  650\n"
          ]
        }
      ]
    },
    {
      "cell_type": "code",
      "source": [
        "# Q14  Write a program to reverse a string using a while loop\n",
        "z = 'Nishant'\n",
        "i = len(z) - 1\n",
        "while i >= 0:\n",
        "  print(z[i], end='')\n",
        "  i -= 1"
      ],
      "metadata": {
        "colab": {
          "base_uri": "https://localhost:8080/"
        },
        "id": "_gIElnWxeq1P",
        "outputId": "5c5a6caf-1675-4a54-b79d-9f7d0fb978f0"
      },
      "execution_count": 51,
      "outputs": [
        {
          "output_type": "stream",
          "name": "stdout",
          "text": [
            "tnahsiN"
          ]
        }
      ]
    },
    {
      "cell_type": "code",
      "source": [
        "#Q15 Write a Python program to calculate the factorial of a number provided by the user using a while loop.\n",
        "x = int(input(\"enter a number\"))\n",
        "z = 1\n",
        "while x > 0:\n",
        "  z *= x\n",
        "  x -= 1\n",
        "print(z)\n",
        ""
      ],
      "metadata": {
        "colab": {
          "base_uri": "https://localhost:8080/"
        },
        "id": "fzAQ3v6UiU_c",
        "outputId": "df5e1d5b-8bae-4da0-9013-e786493b23c4"
      },
      "execution_count": 59,
      "outputs": [
        {
          "output_type": "stream",
          "name": "stdout",
          "text": [
            "enter a number0\n",
            "1\n"
          ]
        }
      ]
    }
  ]
}